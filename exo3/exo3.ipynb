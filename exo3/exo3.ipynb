{
 "cells": [
  {
   "cell_type": "code",
   "execution_count": 7,
   "id": "742c3331",
   "metadata": {},
   "outputs": [],
   "source": [
    "from IPython.display import Image, display\n",
    "from math import sqrt"
   ]
  },
  {
   "cell_type": "markdown",
   "id": "03a0ee16",
   "metadata": {},
   "source": [
    "# Exo 3"
   ]
  },
  {
   "cell_type": "markdown",
   "id": "509eb6b7",
   "metadata": {},
   "source": [
    "#### Question 1 :\n",
    "\n",
    "A quadrilateral (a b c d) is inscribed\n",
    "into the circle of radius r. Its area A is an integer.\n",
    "\n",
    "We only seek for integer solutions (a b c d A)\n",
    "- Find all integer solutions (a b c d A) with : 0<a⩽c<d<11.\n",
    "You must check at least 1 or 2 solutions\n",
    "\n",
    "- Find a solution such that 0<a≠b≠c≠d"
   ]
  },
  {
   "cell_type": "code",
   "execution_count": null,
   "id": "52c8e8fd",
   "metadata": {},
   "outputs": [],
   "source": [
    "def is_inscribable(a, b, c, d):\n",
    "    \"\"\"Check if a quadrilateral with sides a, b, c, d is inscribable in a circle.\"\"\"\n",
    "    return"
   ]
  },
  {
   "cell_type": "code",
   "execution_count": null,
   "id": "f41bf496",
   "metadata": {},
   "outputs": [],
   "source": [
    "def trouver_quadri_inscrits() :\n",
    "    \"\"\"Find all integer quadrilaterals (a, b, c, d)\n",
    "    with integer area and 0 < a <= c < d < 11 that are inscribable in a circle.\"\"\"\n",
    "    solutions = []\n",
    "    for a in range(1, 10):\n",
    "        for c in range(a, 10):\n",
    "            for d in range(c+1, 11):\n",
    "                for b in range(c, 11):\n",
    "                    if is_inscribable(a, b, c, d):\n",
    "                        solutions.append((a, b, c, d))\n",
    "    return solutions"
   ]
  },
  {
   "cell_type": "markdown",
   "id": "51880801",
   "metadata": {},
   "source": [
    "#### Question 2 :\n",
    "Find 3 different rectangle triangles (with all 9 sides different) and with\n",
    "the same integer area"
   ]
  },
  {
   "cell_type": "code",
   "execution_count": 88,
   "id": "32fedb76",
   "metadata": {},
   "outputs": [],
   "source": [
    "def triangle(a, b, epsilon=1e-10) :\n",
    "    \"\"\"Trouve le troisième côté et l'aire\n",
    "    du triangle rectangle héronien s'il existe\"\"\"\n",
    "    c = sqrt(a**2 + b**2)\n",
    "    Aire = (a*b)/2\n",
    "    if abs(c - round(c)) < epsilon and Aire.is_integer() :\n",
    "        return int(Aire), int(c)\n",
    "    return None, None"
   ]
  },
  {
   "cell_type": "code",
   "execution_count": null,
   "id": "5cde15c5",
   "metadata": {},
   "outputs": [],
   "source": [
    "def trouver_triplet_triangles(max = 150) :\n",
    "    \"\"\"Trouve des ensembles de trois triangles rectangles héroniens différents\"\"\"\n",
    "\n",
    "    # Tous les triangles rectangles de Héron, par aire\n",
    "    # (avec les côtés de taille inférieure à un max)\n",
    "    triangles = {}\n",
    "    for a in range(1, max):\n",
    "        for b in range(a, max):\n",
    "            Aire, c = triangle(a, b)\n",
    "            if Aire is not None:\n",
    "                if triangles.get(Aire) is None :\n",
    "                    triangles[Aire] = [(a, b, c)]\n",
    "                else :\n",
    "                    triangles[Aire].append((a, b, c))\n",
    "\n",
    "    triangles = dict(sorted(triangles.items()))\n",
    "\n",
    "    # Triplets de triangles qui ont la même aire\n",
    "    triplets = []\n",
    "    for Aire in triangles :\n",
    "        if len(triangles[Aire]) == 3 :\n",
    "            triplets.append((Aire, triangles[Aire]))\n",
    "\n",
    "    return triplets, triangles"
   ]
  },
  {
   "cell_type": "code",
   "execution_count": 109,
   "id": "20396f58",
   "metadata": {},
   "outputs": [
    {
     "name": "stdout",
     "output_type": "stream",
     "text": [
      "Nombre de triplets de triangles rectangles héroniens différents trouvés, pour des côtés < 400 :\n",
      "4\n",
      "\n",
      "Quelques triplets :\n",
      "Aire =  840 :\n",
      "   1) a= 15, b=112, c=113\n",
      "   2) a= 24, b= 70, c= 74\n",
      "   3) a= 40, b= 42, c= 58\n",
      "Aire = 3360 :\n",
      "   1) a= 30, b=224, c=226\n",
      "   2) a= 48, b=140, c=148\n",
      "   3) a= 80, b= 84, c=116\n",
      "Aire = 7560 :\n",
      "   1) a= 45, b=336, c=339\n",
      "   2) a= 72, b=210, c=222\n",
      "   3) a=120, b=126, c=174\n",
      "Aire = 10920 :\n",
      "   1) a= 56, b=390, c=394\n",
      "   2) a=105, b=208, c=233\n",
      "   3) a=120, b=182, c=218\n"
     ]
    }
   ],
   "source": [
    "max = 400\n",
    "triplets, triangles = trouver_triplet_triangles(max)\n",
    "\n",
    "print(f\"Nombre de triplets de triangles rectangles héroniens différents trouvés, pour des côtés < {max} :\\n{len(triplets)}\\n\")\n",
    "\n",
    "print(\"Quelques triplets :\")\n",
    "for (Aire, t) in triplets :\n",
    "    print(f\"Aire = {Aire:4d} :\")\n",
    "    for (a, b, c) in t :\n",
    "        print(f\"   {t.index((a, b, c)) + 1}) a={a:3d}, b={b:3d}, c={c:3d}\")"
   ]
  },
  {
   "cell_type": "code",
   "execution_count": null,
   "id": "05611ba5",
   "metadata": {},
   "outputs": [],
   "source": [
    "#display(Image(filename=\"exo2.png\", width=600, height=300))"
   ]
  },
  {
   "cell_type": "markdown",
   "id": "8ae69111",
   "metadata": {},
   "source": [
    "#### Question 3 :\n",
    "This quadrilateral has 4 integer sides\n",
    "which are known (a, b, c, d) as well as a 90° angle.\n",
    "- Find its area A.\n",
    "- Find all Heronian quadrilaterals with a 90° angle\n",
    "for : 0 < b,d ⩽ a,c < 15\n"
   ]
  },
  {
   "cell_type": "code",
   "execution_count": 36,
   "id": "be7fb838",
   "metadata": {},
   "outputs": [],
   "source": [
    "def is_quadri(a,b,c,d) :\n",
    "    \"\"\"Vérifie si les côtés a,b,c,d peuvent former un quadrilatère\"\"\"\n",
    "\n",
    "    # Vérif inégalités quadrilatère\n",
    "    if not ( (a < b+c+d) and (b < a+c+d) and (c < a+b+d) and (d < a+b+c) ) :\n",
    "        return False\n",
    "    \n",
    "    # Vérif inégalités triangulaire sur le triangle en face de l'angle droit\n",
    "    h = sqrt(a**2 + d**2)\n",
    "    if not ( (h < b+c) and (b < c + h) and (c < b + h) ) :\n",
    "        return False\n",
    "    \n",
    "    # Vérif sur l'autre triangle\n",
    "    if not ( (a < d+h) and (d < a + h) and (h < a + d) ) :\n",
    "        return False\n",
    "\n",
    "    return True"
   ]
  },
  {
   "cell_type": "code",
   "execution_count": 37,
   "id": "e0fc7098",
   "metadata": {},
   "outputs": [],
   "source": [
    "def quadri_area(a,b,c,d) :\n",
    "    \"\"\"Aire du quadrilatère de côtés a,b,c,d avec un angle droit entre a et d\"\"\"\n",
    "\n",
    "    # Triangle de côtés a, d :\n",
    "    A1 = (a*d)/2\n",
    "    h = sqrt(a**2 + d**2)\n",
    "\n",
    "    # Triangle de côtés b, c :\n",
    "    s = (b+c+h)/2\n",
    "    if s*(s-b)*(s-c)*(s-h) < 0 :\n",
    "        return None\n",
    "    A2 = sqrt(s*(s-b)*(s-c)*(s-h))\n",
    "\n",
    "    return A1 + A2"
   ]
  },
  {
   "cell_type": "code",
   "execution_count": null,
   "id": "7d1f9cd5",
   "metadata": {},
   "outputs": [],
   "source": [
    "def trouver_quadri_heron() :\n",
    "    \"\"\" Trouve tous les quadrilatères de Héron (a,b,c,d) avec\n",
    "    0 < b,d ⩽ a,c < 15 et un angle droit entre a et d.\n",
    "    Dans un soucis de manque de définition, je suppose ici qu'un quadrilatère de Héron\n",
    "    est un quadrilatère dont tous les côtés sont entiers et dont l'aire est un entier.\n",
    "    \"\"\"\n",
    "    sols = []\n",
    "    for a in range(1, 15):                    # 0 < a < 15\n",
    "        for d in range(1, a+1):               # 0 < d ⩽ a\n",
    "            for b in range(1, a+1):           # 0 < b ⩽ a\n",
    "                for c in range(max(b,d), 15): # b,d ⩽ c < 15\n",
    "                    if is_quadri(a,b,c,d) and quadri_area(a,b,c,d)!=None and quadri_area(a,b,c,d).is_integer() :\n",
    "                        sols.append((a,b,c,d))\n",
    "    return sols\n",
    "\n"
   ]
  },
  {
   "cell_type": "code",
   "execution_count": 43,
   "id": "6c0eb3c3",
   "metadata": {},
   "outputs": [
    {
     "name": "stdout",
     "output_type": "stream",
     "text": [
      "Nombre de solutions : 113\n",
      "Quelques solutions avec des quadrilatères qui ne sont pas des rectangles :\n",
      "a= 4, b= 1, c= 5, d= 2 => aire = 6.0\n",
      "a= 5, b= 5, c= 8, d= 4 => aire = 26.0\n",
      "a= 5, b= 1, c= 7, d= 5 => aire = 16.0\n",
      "a= 6, b= 5, c=10, d= 3 => aire = 24.0\n",
      "a= 6, b= 3, c=10, d= 5 => aire = 24.0\n",
      "a= 7, b= 5, c= 5, d= 1 => aire = 16.0\n",
      "a= 7, b= 1, c= 8, d= 4 => aire = 18.0\n",
      "a= 7, b= 4, c= 5, d= 4 => aire = 22.0\n",
      "a= 7, b= 5, c=10, d= 4 => aire = 34.0\n",
      "a= 7, b= 7, c=10, d= 4 => aire = 42.0\n",
      "a= 7, b= 5, c=13, d= 5 => aire = 30.0\n",
      "a= 7, b= 1, c=10, d= 6 => aire = 24.0\n",
      "a= 7, b= 2, c= 9, d= 6 => aire = 30.0\n",
      "a= 8, b= 4, c= 7, d= 1 => aire = 18.0\n",
      "a= 8, b= 5, c=10, d= 1 => aire = 24.0\n",
      "a= 8, b= 2, c=10, d= 4 => aire = 24.0\n",
      "a= 8, b= 5, c= 5, d= 4 => aire = 26.0\n",
      "a= 8, b= 5, c=11, d= 4 => aire = 38.0\n",
      "a= 9, b= 6, c= 7, d= 2 => aire = 30.0\n",
      "a= 9, b= 5, c= 5, d= 3 => aire = 21.0\n",
      "a= 9, b= 5, c=13, d= 3 => aire = 33.0\n",
      "a= 9, b= 5, c= 6, d= 4 => aire = 30.0\n",
      "a= 9, b= 5, c=10, d= 4 => aire = 42.0\n",
      "a= 9, b= 5, c=12, d= 4 => aire = 42.0\n",
      "a= 9, b= 1, c=12, d= 8 => aire = 42.0\n",
      "a= 9, b= 3, c=10, d= 8 => aire = 48.0\n",
      "a= 9, b= 4, c=13, d= 8 => aire = 60.0\n",
      "a= 9, b= 6, c=13, d= 8 => aire = 72.0\n",
      "a= 9, b= 5, c=13, d= 9 => aire = 72.0\n",
      "a=10, b= 2, c=11, d= 5 => aire = 36.0\n",
      "a=10, b= 2, c=14, d=10 => aire = 64.0\n",
      "a=11, b= 5, c=10, d= 2 => aire = 36.0\n",
      "a=11, b= 5, c= 8, d= 4 => aire = 38.0\n",
      "a=11, b= 5, c=14, d= 4 => aire = 50.0\n",
      "a=11, b=10, c=13, d= 4 => aire = 78.0\n",
      "a=11, b= 3, c=10, d= 6 => aire = 42.0\n",
      "a=12, b= 3, c=10, d= 1 => aire = 18.0\n",
      "a=12, b= 6, c=13, d= 1 => aire = 42.0\n",
      "a=12, b= 8, c= 9, d= 1 => aire = 42.0\n",
      "a=12, b= 2, c=13, d= 3 => aire = 30.0\n",
      "a=12, b= 5, c=10, d= 3 => aire = 42.0\n",
      "a=12, b=10, c=13, d= 5 => aire = 90.0\n",
      "a=12, b= 1, c=13, d= 6 => aire = 42.0\n",
      "a=12, b=11, c=13, d= 6 => aire = 102.0\n",
      "a=12, b= 4, c=13, d= 9 => aire = 78.0\n",
      "a=12, b= 5, c=13, d=10 => aire = 90.0\n",
      "a=12, b= 6, c=13, d=11 => aire = 102.0\n",
      "a=13, b= 5, c= 9, d= 3 => aire = 33.0\n",
      "a=14, b=10, c=10, d= 2 => aire = 64.0\n",
      "a=14, b= 5, c=13, d= 8 => aire = 84.0\n",
      "a=14, b= 8, c=10, d= 8 => aire = 88.0\n",
      "a=14, b= 9, c=13, d=12 => aire = 138.0\n"
     ]
    }
   ],
   "source": [
    "sols = trouver_quadri_heron()\n",
    "print(f\"Nombre de solutions : {len(sols)}\")\n",
    "\n",
    "print(\"Quelques solutions avec des quadrilatères qui ne sont pas des rectangles :\")\n",
    "for (a,b,c,d) in sols :\n",
    "    if a!=c :\n",
    "        print(f\"a={a:2d}, b={b:2d}, c={c:2d}, d={d:2d} => aire = {quadri_area(a,b,c,d)}\")"
   ]
  },
  {
   "cell_type": "code",
   "execution_count": null,
   "id": "7c8d6bed",
   "metadata": {},
   "outputs": [],
   "source": [
    "#display(Image(filename=\"exo3.png\", width=600, height=300))"
   ]
  },
  {
   "cell_type": "markdown",
   "id": "541d2a10",
   "metadata": {},
   "source": [
    "#### Question 4 :\n",
    "This rectangle is only composed\n",
    "of squares. The orange one is a 2x2\n",
    "square.\n",
    "- Find the size of the rectangle\n"
   ]
  },
  {
   "cell_type": "code",
   "execution_count": null,
   "id": "b7a60c54",
   "metadata": {},
   "outputs": [],
   "source": [
    "#display(Image(filename=\"exo4.png\", width=600, height=300))"
   ]
  }
 ],
 "metadata": {
  "kernelspec": {
   "display_name": "Python 3",
   "language": "python",
   "name": "python3"
  },
  "language_info": {
   "codemirror_mode": {
    "name": "ipython",
    "version": 3
   },
   "file_extension": ".py",
   "mimetype": "text/x-python",
   "name": "python",
   "nbconvert_exporter": "python",
   "pygments_lexer": "ipython3",
   "version": "3.12.3"
  }
 },
 "nbformat": 4,
 "nbformat_minor": 5
}
