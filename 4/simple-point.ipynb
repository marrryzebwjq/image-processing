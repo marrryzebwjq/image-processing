{
 "cells": [
  {
   "cell_type": "markdown",
   "id": "c5640b26",
   "metadata": {},
   "source": [
    "# Exercices sur les points simples"
   ]
  },
  {
   "cell_type": "markdown",
   "id": "2134dd22",
   "metadata": {},
   "source": [
    "Objectif : programmer en python\n",
    "\n",
    "- une fonction pour les connectivités\n",
    "- une fonction pour les 4-simples\n",
    "- une fonction pour les 8-simples"
   ]
  },
  {
   "cell_type": "code",
   "execution_count": 19,
   "id": "b23de1fd",
   "metadata": {},
   "outputs": [],
   "source": [
    "#matrice de l'exercice de cours\n",
    "\n",
    "# oooooooooooo\n",
    "# oooooooooooo\n",
    "# oooooxxxxooo\n",
    "# ooxxxxxxxxoo\n",
    "# ooooxxxxxooo\n",
    "# oooxxxxxoooo\n",
    "# oooooooooooo\n",
    "# oooooooooooo\n",
    "\n",
    "matrice = [[0, 0, 0, 0, 0, 0, 0, 0, 0, 0, 0, 0],\n",
    "           [0, 0, 0, 0, 0, 0, 0, 0, 0, 0, 0, 0],\n",
    "           [0, 0, 0, 0, 0, 1, 1, 1, 1, 0, 0, 0],\n",
    "           [0, 0, 1, 1, 1, 1, 1, 1, 1, 1, 0, 0],\n",
    "           [0, 0, 0, 0, 1, 1, 1, 1, 1, 0, 0, 0],\n",
    "           [0, 0, 0, 1, 1, 1, 1, 1, 0, 0, 0, 0],\n",
    "           [0, 0, 0, 0, 0, 0, 0, 0, 0, 0, 0, 0],\n",
    "           [0, 0, 0, 0, 0, 0, 0, 0, 0, 0, 0, 0]]\n",
    "\n",
    "# réponses pour cette matrice\n",
    "\n",
    "simple4 = [[0, 0, 0, 0, 0, 0, 0, 0, 0, 0, 0, 0],\n",
    "           [0, 0, 0, 0, 0, 1, 1, 1, 1, 0, 0, 0],\n",
    "           [0, 0, 1, 1, 1, 1, 1, 1, 1, 1, 0, 0],\n",
    "           [0, 0, 1, 0, 0, 1, 0, 0, 0, 1, 1, 0],\n",
    "           [0, 0, 0, 1, 1, 0, 0, 1, 1, 1, 0, 0],\n",
    "           [0, 0, 1, 1, 0, 1, 1, 1, 0, 0, 0, 0],\n",
    "           [0, 0, 0, 1, 1, 1, 1, 1, 0, 0, 0, 0],\n",
    "           [0, 0, 0, 0, 0, 0, 0, 0, 0, 0, 0, 0]]\n",
    "\n",
    "simple8 = [[0, 0, 0, 0, 0, 0, 0, 0, 0, 0, 0, 0],\n",
    "           [0, 0, 0, 0, 1, 1, 1, 1, 1, 1, 0, 0],\n",
    "           [0, 0, 1, 1, 1, 1, 1, 1, 1, 1, 1, 0],\n",
    "           [0, 0, 1, 0, 1, 0, 0, 0, 0, 1, 1, 0],\n",
    "           [0, 0, 0, 1, 1, 0, 0, 0, 0, 1, 1, 0],\n",
    "           [0, 0, 1, 1, 1, 1, 1, 1, 1, 1, 0, 0],\n",
    "           [0, 0, 1, 1, 1, 1, 1, 1, 1, 0, 0, 0],\n",
    "           [0, 0, 0, 0, 0, 0, 0, 0, 0, 0, 0, 0]]"
   ]
  },
  {
   "cell_type": "code",
   "execution_count": 20,
   "id": "8f32473e",
   "metadata": {},
   "outputs": [],
   "source": [
    "import matplotlib.pyplot as plt\n",
    "from matplotlib.colors import ListedColormap\n",
    "def show_image(mat):\n",
    "    plt.imshow(mat, cmap=ListedColormap(['white', 'black']))\n",
    "    plt.xticks(range(len(mat[0])))\n",
    "    plt.yticks(range(len(mat))) \n",
    "    plt.show()"
   ]
  },
  {
   "cell_type": "code",
   "execution_count": 21,
   "id": "2f2313d9",
   "metadata": {},
   "outputs": [
    {
     "data": {
      "image/png": "[encoded data removed]",
      "text/plain": [
       "<Figure size 640x480 with 1 Axes>"
      ]
     },
     "metadata": {},
     "output_type": "display_data"
    },
    {
     "data": {
      "image/png": "[encoded data removed]",
      "text/plain": [
       "<Figure size 640x480 with 1 Axes>"
      ]
     },
     "metadata": {},
     "output_type": "display_data"
    },
    {
     "data": {
      "image/png": "[encoded data removed]",
      "text/plain": [
       "<Figure size 640x480 with 1 Axes>"
      ]
     },
     "metadata": {},
     "output_type": "display_data"
    }
   ],
   "source": [
    "show_image(matrice)\n",
    "show_image(simple4)\n",
    "show_image(simple8)"
   ]
  },
  {
   "cell_type": "code",
   "execution_count": null,
   "id": "9c3454c1",
   "metadata": {},
   "outputs": [],
   "source": [
    "def neighbors4(point, mat):\n",
    "    \"\"\"List of 4 neighbors of point=(x, y) in matrix mat\n",
    "    (top, right, bottom, left)\"\"\"\n",
    "    x, y = point\n",
    "    voisins = []\n",
    "    voisins.append(matrice[y-1][x] if y-1 >= 0 else 0)          # haut\n",
    "    voisins.append(matrice[y][x+1] if x+1 < len(mat[0]) else 0) # droite\n",
    "    voisins.append(matrice[y+1][x] if y+1 < len(mat) else 0)    # bas\n",
    "    voisins.append(matrice[y][x-1] if x-1 >= 0 else 0)          # gauche\n",
    "    return voisins\n",
    "\n",
    "\n",
    "def neighbors8(point, mat):\n",
    "    \"\"\"List of 8 neighbors of point=(x, y) in matrix mat\n",
    "    (top-left, clockwise)\"\"\"\n",
    "    x, y = point\n",
    "    voisins = []\n",
    "    voisins.append(matrice[y-1][x-1] if y-1 >= 0 and x-1 >= 0 else 0)                   # haut-gauche\n",
    "    voisins.append(matrice[y-1][x] if y-1 >= 0 else 0)                                  # haut\n",
    "    voisins.append(matrice[y-1][x+1] if y-1 >= 0 and x+1 < len(mat[0]) else 0)          # haut-droite\n",
    "    voisins.append(matrice[y][x+1] if x+1 < len(mat[0]) else 0)                         # droite\n",
    "    voisins.append(matrice[y+1][x+1] if y+1 < len(mat) and x+1 < len(mat[0]) else 0)    # bas-droite\n",
    "    voisins.append(matrice[y+1][x] if y+1 < len(mat) else 0)                            # bas\n",
    "    voisins.append(matrice[y+1][x-1] if y+1 < len(mat) and x-1 >= 0 else 0)             # bas-gauche\n",
    "    voisins.append(matrice[y][x-1] if x-1 >= 0 else 0)                                  # gauche\n",
    "    return voisins\n",
    "\n"
   ]
  },
  {
   "cell_type": "code",
   "execution_count": null,
   "id": "9ef929a4",
   "metadata": {},
   "outputs": [],
   "source": [
    "def T4(p, matrice):\n",
    "    voisins = neighbors4(p, matrice)\n",
    "    # on fait le tour des voisins circulairement\n",
    "    voisins_circ = voisins + [voisins[0]]\n",
    "    transitions = 0\n",
    "    for i in range(4):\n",
    "        if voisins_circ[i] == 0 and voisins_circ[i+1] == 1:\n",
    "            transitions += 1\n",
    "    return transitions\n",
    "\n"
   ]
  },
  {
   "cell_type": "code",
   "execution_count": null,
   "id": "dadfa380",
   "metadata": {},
   "outputs": [],
   "source": [
    "def is_4_simple(x, y, mat):\n",
    "    "
   ]
  }
 ],
 "metadata": {
  "kernelspec": {
   "display_name": "Python 3",
   "language": "python",
   "name": "python3"
  },
  "language_info": {
   "codemirror_mode": {
    "name": "ipython",
    "version": 3
   },
   "file_extension": ".py",
   "mimetype": "text/x-python",
   "name": "python",
   "nbconvert_exporter": "python",
   "pygments_lexer": "ipython3",
   "version": "3.13.2"
  }
 },
 "nbformat": 4,
 "nbformat_minor": 5
}
