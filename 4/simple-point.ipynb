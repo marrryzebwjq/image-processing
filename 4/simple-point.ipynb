{
 "cells": [
  {
   "cell_type": "markdown",
   "id": "c5640b26",
   "metadata": {},
   "source": [
    "# Exercices sur les points simples"
   ]
  },
  {
   "cell_type": "markdown",
   "id": "2134dd22",
   "metadata": {},
   "source": [
    "Objectif : programmer en python\n",
    "\n",
    "- une fonction pour les connectivités\n",
    "- une fonction pour les 4-simples\n",
    "- une fonction pour les 8-simples"
   ]
  },
  {
   "cell_type": "code",
   "execution_count": 1,
   "id": "b23de1fd",
   "metadata": {},
   "outputs": [],
   "source": [
    "#matrice de l'exercice de cours\n",
    "\n",
    "# oooooooooooo\n",
    "# oooooooooooo\n",
    "# oooooxxxxooo\n",
    "# ooxxxxxxxxoo\n",
    "# ooooxxxxxooo\n",
    "# oooxxxxxoooo\n",
    "# oooooooooooo\n",
    "# oooooooooooo\n",
    "\n",
    "matrice = [[0, 0, 0, 0, 0, 0, 0, 0, 0, 0, 0, 0],\n",
    "           [0, 0, 0, 0, 0, 0, 0, 0, 0, 0, 0, 0],\n",
    "           [0, 0, 0, 0, 0, 1, 1, 1, 1, 0, 0, 0],\n",
    "           [0, 0, 1, 1, 1, 1, 1, 1, 1, 1, 0, 0],\n",
    "           [0, 0, 0, 0, 1, 1, 1, 1, 1, 0, 0, 0],\n",
    "           [0, 0, 0, 1, 1, 1, 1, 1, 0, 0, 0, 0],\n",
    "           [0, 0, 0, 0, 0, 0, 0, 0, 0, 0, 0, 0],\n",
    "           [0, 0, 0, 0, 0, 0, 0, 0, 0, 0, 0, 0]]\n",
    "\n",
    "# réponses pour cette matrice\n",
    "\n",
    "simple4 = [[0, 0, 0, 0, 0, 0, 0, 0, 0, 0, 0, 0],\n",
    "           [0, 0, 0, 0, 0, 1, 1, 1, 1, 0, 0, 0],\n",
    "           [0, 0, 1, 1, 1, 1, 1, 1, 1, 1, 0, 0],\n",
    "           [0, 0, 1, 0, 0, 1, 0, 0, 0, 1, 1, 0],\n",
    "           [0, 0, 0, 1, 1, 0, 0, 1, 1, 1, 0, 0],\n",
    "           [0, 0, 1, 1, 0, 1, 1, 1, 0, 0, 0, 0],\n",
    "           [0, 0, 0, 1, 1, 1, 1, 1, 0, 0, 0, 0],\n",
    "           [0, 0, 0, 0, 0, 0, 0, 0, 0, 0, 0, 0]]\n",
    "\n",
    "simple8 = [[0, 0, 0, 0, 0, 0, 0, 0, 0, 0, 0, 0],\n",
    "           [0, 0, 0, 0, 1, 1, 1, 1, 1, 1, 0, 0],\n",
    "           [0, 0, 1, 1, 1, 1, 1, 1, 1, 1, 1, 0],\n",
    "           [0, 0, 1, 0, 1, 0, 0, 0, 0, 1, 1, 0],\n",
    "           [0, 0, 0, 1, 1, 0, 0, 0, 0, 1, 1, 0],\n",
    "           [0, 0, 1, 1, 1, 1, 1, 1, 1, 1, 0, 0],\n",
    "           [0, 0, 1, 1, 1, 1, 1, 1, 1, 0, 0, 0],\n",
    "           [0, 0, 0, 0, 0, 0, 0, 0, 0, 0, 0, 0]]"
   ]
  },
  {
   "cell_type": "code",
   "execution_count": null,
   "id": "8f32473e",
   "metadata": {},
   "outputs": [],
   "source": [
    "import matplotlib.pyplot as plt\n",
    "from matplotlib.colors import ListedColormap, BoundaryNorm\n",
    "def show_image(mat):\n",
    "    cmap = ListedColormap(['gray','white', 'black'])\n",
    "    plt.imshow(mat, cmap=cmap, norm=BoundaryNorm([-1.5, -0.5, 0.5, 1.5], cmap.N))\n",
    "    plt.xticks(range(len(mat[0])))\n",
    "    plt.yticks(range(len(mat)))\n",
    "    plt.gca().set_xticks([i + 0.5 for i in range(len(mat[0]))], minor=True)\n",
    "    plt.gca().set_yticks([i + 0.5 for i in range(len(mat))], minor=True)\n",
    "    plt.grid(True, which=\"minor\", color=\"gray\", linestyle='--', linewidth=0.5)\n",
    "    plt.show()\n",
    "\n",
    "def show_petite_matrice(mat3x3):\n",
    "    mat = [[0, 0, 0], [0, 0, 0], [0, 0, 0]]\n",
    "    for i in range(3):\n",
    "        for j in range(3):\n",
    "            mat[i][j] = mat3x3[i][j][0]\n",
    "    show_image(mat)"
   ]
  },
  {
   "cell_type": "code",
   "execution_count": 3,
   "id": "2f2313d9",
   "metadata": {},
   "outputs": [
    {
     "data": {
      "image/png": "[encoded data removed]",
      "text/plain": [
       "<Figure size 640x480 with 1 Axes>"
      ]
     },
     "metadata": {},
     "output_type": "display_data"
    },
    {
     "data": {
      "image/png": "[encoded data removed]",
      "text/plain": [
       "<Figure size 640x480 with 1 Axes>"
      ]
     },
     "metadata": {},
     "output_type": "display_data"
    },
    {
     "data": {
      "image/png": "[encoded data removed]",
      "text/plain": [
       "<Figure size 640x480 with 1 Axes>"
      ]
     },
     "metadata": {},
     "output_type": "display_data"
    }
   ],
   "source": [
    "show_image(matrice)\n",
    "show_image(simple4)\n",
    "show_image(simple8)"
   ]
  },
  {
   "cell_type": "markdown",
   "id": "8c9b4ddf",
   "metadata": {},
   "source": [
    "simple point\n",
    "\n",
    "mat.\n",
    "point matrice : recup matrice 3x3 avec des -1 aux bords et au milieu et partout tuple visited false ou true(-1)\n",
    "-1 -1 -1\n",
    "-1 -1  0\n",
    "-1  1  1\n",
    "\n",
    "tovisit.\n",
    "4/8, 0/1, mat : recup liste tuple à visiter 4v1 ou 4v0 ou 8v1 ou 8v0 ex les coordonnées dans cette matrice des voisins qui sont des 1 parmi les 4v (non lus)\n",
    "bd,f  b,f\n",
    "\n",
    "nextvisit.\n",
    "point, mat, 4/8 : recup les 4v (donc les 2) du point dans la 3x3 qui doivent être visités cad meme val (0ou1)et non visité\n",
    "arg point : on commence dans la liste précédente donc val soit 0 soit 1\n",
    "1 1 : [ 1 0 ]\n",
    "\n",
    "parcours dfs init.\n",
    "tovisit : prend le premier point de tovisit, le marque comme lu, et applique dfsrécu sur les next visit. À la fin regarde si tovisit a été entièrement visité. S'il reste un false alors not connex\n",
    "\n",
    "dfsrécu.\n",
    "point: dfsrécu(tout nextvisit(p))"
   ]
  },
  {
   "cell_type": "code",
   "execution_count": null,
   "id": "5d85a353",
   "metadata": {},
   "outputs": [],
   "source": [
    "def petite_matrice(point, X) :\n",
    "    \"\"\"Renvoie la matrice 3x3 centrée en point et indique si les points doit être visité\n",
    "    (-1, False) si le point n'existe pas (bord) et ne doit pas être visité dans le suite de l'algorithme\n",
    "    @param point: tuple (i,j) coordonnées du point\n",
    "    @param X: matrice binaire qui correspond à l'image\"\"\"\n",
    "\n",
    "    i,j = point\n",
    "    mat3x3 = [[(-1, False),(-1, False),(-1, False)], [(-1, False),(-1, False),(-1, False)], [(-1, False),(-1, False),(-1, False)]]\n",
    "    for k in range(-1,2):\n",
    "        for l in range(-1,2):\n",
    "            if 0 <= i+k < len(X) and 0 <= j+l < len(X[0]):\n",
    "                mat3x3[k+1][l+1] = (X[i+k][j+l], True)\n",
    "    return mat3x3"
   ]
  },
  {
   "cell_type": "code",
   "execution_count": null,
   "id": "f6ebc94c",
   "metadata": {},
   "outputs": [],
   "source": [
    "def to_visit(alpha, val, mat3x3) :\n",
    "    \"\"\"Récup la liste des pixels à visiter en fonction de la valeur (val) du pixel central et du type de voisinage (alpha)\"\"\"\n",
    "    v = []\n",
    "    # haut gauche\n",
    "    if alpha == 8 and mat3x3[0][0][0] == val and mat3x3[0][0][1]:\n",
    "        v.append(mat3x3[0][0])\n",
    "    # haut\n",
    "    if mat3x3[0][1][0] == val and mat3x3[0][1][1]:\n",
    "        v.append(mat3x3[0][1])\n",
    "    # haut droite\n",
    "    if alpha == 8 and mat3x3[0][2][0] == val and mat3x3[0][2][1]:\n",
    "        v.append(mat3x3[0][2])\n",
    "    # droite\n",
    "    if mat3x3[1][2][0] == val and mat3x3[1][2][1]:\n",
    "        v.append(mat3x3[1][2])\n",
    "    # bas droite\n",
    "    if alpha == 8 and mat3x3[2][2][0] == val and mat3x3[2][2][1]:\n",
    "        v.append(mat3x3[2][2])\n",
    "    # bas\n",
    "    if mat3x3[2][1][0] == val and mat3x3[2][1][1]:\n",
    "        v.append(mat3x3[2][1])\n",
    "    # bas gauche\n",
    "    if alpha == 8 and mat3x3[2][0][0] == val and mat3x3[2][0][1]:\n",
    "        v.append(mat3x3[2][0])\n",
    "    # gauche\n",
    "    if mat3x3[1][0][0] == val and mat3x3[1][0][1]:\n",
    "        v.append(mat3x3[1][0])\n",
    "    \n",
    "    return v"
   ]
  },
  {
   "cell_type": "markdown",
   "id": "15d37fcf",
   "metadata": {},
   "source": [
    "nextvisit.\n",
    "point, mat, 4/8 : recup les 4v (donc les 2) du point dans la 3x3 qui doivent être visités cad meme val (0ou1)et non visité\n",
    "arg point : on commence dans la liste précédente donc val soit 0 soit 1\n",
    "1 1 : [ 1 0 ]"
   ]
  },
  {
   "cell_type": "code",
   "execution_count": null,
   "id": "6d33fdc8",
   "metadata": {},
   "outputs": [],
   "source": [
    "def voisins(point, mat3x3, alpha):\n",
    "    \"\"\"Renvoie la liste des voisins du point dans la matrice 3x3\n",
    "    @param point: tuple (i,j) coordonnées du point\n",
    "    @param mat3x3: matrice 3x3 centrée en point\n",
    "    @param alpha: 4 ou 8 pour le type de voisinage\"\"\"\n",
    "    i,j = point\n",
    "    #val = mat3x3[1][1][0]\n",
    "    #return to_visit(alpha, val, mat3x3)"
   ]
  },
  {
   "cell_type": "markdown",
   "id": "be383671",
   "metadata": {},
   "source": [
    "parcours dfs init.\n",
    "tovisit : prend le premier point de tovisit, le marque comme lu, et applique dfsrécu sur les next visit. À la fin regarde si tovisit a été entièrement visité. S'il reste un false alors not connex"
   ]
  },
  {
   "cell_type": "code",
   "execution_count": null,
   "id": "b5b5b67b",
   "metadata": {},
   "outputs": [],
   "source": [
    "def is_connex():\n",
    "    pass"
   ]
  },
  {
   "cell_type": "markdown",
   "id": "9d5e3528",
   "metadata": {},
   "source": [
    "dfsrécu.\n",
    "point: dfsrécu(tout nextvisit(p))"
   ]
  },
  {
   "cell_type": "code",
   "execution_count": null,
   "id": "f617640f",
   "metadata": {},
   "outputs": [],
   "source": [
    "def is_connex_recursif():\n",
    "    pass"
   ]
  },
  {
   "cell_type": "code",
   "execution_count": 29,
   "id": "abf314c5",
   "metadata": {},
   "outputs": [
    {
     "data": {
      "image/png": "[encoded data removed]",
      "text/plain": [
       "<Figure size 640x480 with 1 Axes>"
      ]
     },
     "metadata": {},
     "output_type": "display_data"
    },
    {
     "name": "stdout",
     "output_type": "stream",
     "text": [
      "[[(-1, True), (-1, True), (-1, True)], [(-1, True), (0, False), (0, False)], [(-1, True), (0, False), (0, False)]]\n"
     ]
    },
    {
     "data": {
      "image/png": "[encoded data removed]",
      "text/plain": [
       "<Figure size 640x480 with 1 Axes>"
      ]
     },
     "metadata": {},
     "output_type": "display_data"
    }
   ],
   "source": [
    "show_image(matrice)\n",
    "mat3x3 = petite_matrice((0,0), matrice)\n",
    "print(mat3x3)\n",
    "show_petite_matrice(mat3x3)"
   ]
  },
  {
   "cell_type": "code",
   "execution_count": null,
   "id": "9c3454c1",
   "metadata": {},
   "outputs": [],
   "source": [
    "def neighbors4(point, mat):\n",
    "    \"\"\"List of 4 neighbors of point=(x, y) in matrix mat\n",
    "    (top, right, bottom, left)\"\"\"\n",
    "    x, y = point\n",
    "    voisins = []\n",
    "    voisins.append(matrice[y-1][x] if y-1 >= 0 else 0)          # haut\n",
    "    voisins.append(matrice[y][x+1] if x+1 < len(mat[0]) else 0) # droite\n",
    "    voisins.append(matrice[y+1][x] if y+1 < len(mat) else 0)    # bas\n",
    "    voisins.append(matrice[y][x-1] if x-1 >= 0 else 0)          # gauche\n",
    "    return voisins\n",
    "\n",
    "\n",
    "def neighbors8(point, mat):\n",
    "    \"\"\"List of 8 neighbors of point=(x, y) in matrix mat\n",
    "    (top-left, clockwise)\"\"\"\n",
    "    x, y = point\n",
    "    voisins = []\n",
    "    voisins.append(matrice[y-1][x-1] if y-1 >= 0 and x-1 >= 0 else 0)                   # haut-gauche\n",
    "    voisins.append(matrice[y-1][x] if y-1 >= 0 else 0)                                  # haut\n",
    "    voisins.append(matrice[y-1][x+1] if y-1 >= 0 and x+1 < len(mat[0]) else 0)          # haut-droite\n",
    "    voisins.append(matrice[y][x+1] if x+1 < len(mat[0]) else 0)                         # droite\n",
    "    voisins.append(matrice[y+1][x+1] if y+1 < len(mat) and x+1 < len(mat[0]) else 0)    # bas-droite\n",
    "    voisins.append(matrice[y+1][x] if y+1 < len(mat) else 0)                            # bas\n",
    "    voisins.append(matrice[y+1][x-1] if y+1 < len(mat) and x-1 >= 0 else 0)             # bas-gauche\n",
    "    voisins.append(matrice[y][x-1] if x-1 >= 0 else 0)                                  # gauche\n",
    "    return voisins\n",
    "\n"
   ]
  },
  {
   "cell_type": "code",
   "execution_count": null,
   "id": "9ef929a4",
   "metadata": {},
   "outputs": [],
   "source": [
    "def T4(p, matrice):\n",
    "    voisins = neighbors4(p, matrice)\n",
    "    # on fait le tour des voisins circulairement\n",
    "    voisins_circ = voisins + [voisins[0]]\n",
    "    transitions = 0\n",
    "    for i in range(4):\n",
    "        if voisins_circ[i] == 0 and voisins_circ[i+1] == 1:\n",
    "            transitions += 1\n",
    "    return transitions\n",
    "\n"
   ]
  },
  {
   "cell_type": "code",
   "execution_count": null,
   "id": "dadfa380",
   "metadata": {},
   "outputs": [],
   "source": [
    "def is_4_simple(x, y, mat):\n",
    "    "
   ]
  }
 ],
 "metadata": {
  "kernelspec": {
   "display_name": "Python 3",
   "language": "python",
   "name": "python3"
  },
  "language_info": {
   "codemirror_mode": {
    "name": "ipython",
    "version": 3
   },
   "file_extension": ".py",
   "mimetype": "text/x-python",
   "name": "python",
   "nbconvert_exporter": "python",
   "pygments_lexer": "ipython3",
   "version": "3.12.3"
  }
 },
 "nbformat": 4,
 "nbformat_minor": 5
}
